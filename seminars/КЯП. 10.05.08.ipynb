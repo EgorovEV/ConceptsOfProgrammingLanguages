{
 "cells": [
  {
   "cell_type": "code",
   "execution_count": 1,
   "metadata": {
    "collapsed": false
   },
   "outputs": [
    {
     "name": "stdout",
     "output_type": "stream",
     "text": [
      "Elapsed Time = 0:00:03.000694\n"
     ]
    },
    {
     "data": {
      "text/plain": [
       "<function __main__.time_this.<locals>.new_function>"
      ]
     },
     "execution_count": 1,
     "metadata": {},
     "output_type": "execute_result"
    }
   ],
   "source": [
    "def time_this(original_function):\n",
    "    def new_function(*args,**kwargs):\n",
    "        import datetime  \n",
    "        before = datetime.datetime.now()\n",
    "        \n",
    "        x = original_function(*args,**kwargs)\n",
    "        \n",
    "        after = datetime.datetime.now()\n",
    "        print(\"Elapsed Time = {0}\".format(after-before))\n",
    "        return x     \n",
    "    \n",
    "    return new_function\n",
    "    \n",
    "@time_this\n",
    "def func_a(stuff):\n",
    "    import time\n",
    "    time.sleep(3)\n",
    "    \n",
    "time_this(func_a(1))"
   ]
  },
  {
   "cell_type": "code",
   "execution_count": 5,
   "metadata": {
    "collapsed": false
   },
   "outputs": [
    {
     "name": "stdout",
     "output_type": "stream",
     "text": [
      "8\n"
     ]
    }
   ],
   "source": [
    "def add(val):\n",
    "    def other_function(original_function):\n",
    "        def new_function(*args, **kwargs):   #формируется новая функция\n",
    "            x = original_function(*args, **kwargs)\n",
    "            return x + val\n",
    "        return new_function\n",
    "    return other_function\n",
    "    \n",
    "@add(5)\n",
    "def foo():\n",
    "    return 3\n",
    "\n",
    "print(foo())"
   ]
  },
  {
   "cell_type": "code",
   "execution_count": 86,
   "metadata": {
    "collapsed": false
   },
   "outputs": [],
   "source": [
    "def mylog(original_class):\n",
    "    class other_class(original_class):\n",
    "        def __init__(self):\n",
    "            original_class.__init__(self)\n",
    "            \n",
    "        def foo(self, y):\n",
    "            original_class.foo(y)\n",
    "            \n",
    "        def __getattribute__(self, name):\n",
    "            print(\"accessing {0}\".format(name))\n",
    "            return (exec(\"self.\"+name))\n",
    "            \n",
    "    return other_class"
   ]
  },
  {
   "cell_type": "code",
   "execution_count": 26,
   "metadata": {
    "collapsed": true
   },
   "outputs": [],
   "source": [
    "def log(original_class):\n",
    "    class other_class(original_class):\n",
    "        def __init__(self):\n",
    "            super().__init__()\n",
    "            \n",
    "        def foo(self, y):\n",
    "            original_class.foo(self, y)\n",
    "            \n",
    "        def __getattribute__(self, name):\n",
    "            print(\"accessing {0}\".format(name))\n",
    "            try:\n",
    "                return object.__getattribute__(self, name)   #2\n",
    "                # return self.instance.__getattribute__(name)  #способ уронить питон\n",
    "            except:\n",
    "                pass\n",
    "            print(\"accessing {0}\".format(name))\n",
    "            return self.__getattribute__(name)     #1\n",
    "            \n",
    "    return other_class"
   ]
  },
  {
   "cell_type": "code",
   "execution_count": 27,
   "metadata": {
    "collapsed": false
   },
   "outputs": [],
   "source": [
    "@log\n",
    "class Bar:\n",
    "    def __init__(self):\n",
    "        self.x = 4\n",
    "        \n",
    "    def foo(self, y):\n",
    "        print(self.x + y)"
   ]
  },
  {
   "cell_type": "code",
   "execution_count": 28,
   "metadata": {
    "collapsed": false
   },
   "outputs": [
    {
     "name": "stdout",
     "output_type": "stream",
     "text": [
      "accessing x\n",
      "4\n",
      "accessing foo\n",
      "accessing x\n",
      "9\n",
      "None\n"
     ]
    }
   ],
   "source": [
    "bar = Bar()\n",
    "print(bar.x)\n",
    "print(bar.foo(5))"
   ]
  },
  {
   "cell_type": "code",
   "execution_count": null,
   "metadata": {
    "collapsed": true
   },
   "outputs": [],
   "source": []
  }
 ],
 "metadata": {
  "kernelspec": {
   "display_name": "Python 3",
   "language": "python",
   "name": "python3"
  },
  "language_info": {
   "codemirror_mode": {
    "name": "ipython",
    "version": 3
   },
   "file_extension": ".py",
   "mimetype": "text/x-python",
   "name": "python",
   "nbconvert_exporter": "python",
   "pygments_lexer": "ipython3",
   "version": "3.5.4"
  }
 },
 "nbformat": 4,
 "nbformat_minor": 0
}
